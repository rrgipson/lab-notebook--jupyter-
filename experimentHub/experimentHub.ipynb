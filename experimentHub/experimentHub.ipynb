{
 "cells": [
  {
   "cell_type": "markdown",
   "metadata": {},
   "source": [
    "# **Experiment Hub:**\n",
    "\n",
    "\n",
    "        \n",
    "\n"
   ]
  },
  {
   "cell_type": "code",
   "execution_count": 3,
   "metadata": {},
   "outputs": [
    {
     "name": "stdout",
     "output_type": "stream",
     "text": [
      "Note: you may need to restart the kernel to use updated packages.\n",
      "\n",
      "[notice] A new release of pip available: 22.2 -> 24.0\n",
      "[notice] To update, run: C:\\Users\\robby\\AppData\\Local\\Microsoft\\WindowsApps\\PythonSoftwareFoundation.Python.3.9_qbz5n2kfra8p0\\python.exe -m pip install --upgrade pip\n"
     ]
    },
    {
     "name": "stderr",
     "output_type": "stream",
     "text": [
      "ERROR: Could not open requirements file: [Errno 2] No such file or directory: '../req.txt;'\n"
     ]
    }
   ],
   "source": [
    "import sys\n",
    "# install dependencies\n",
    "%pip install -r ../req.txt;"
   ]
  },
  {
   "cell_type": "code",
   "execution_count": 4,
   "metadata": {},
   "outputs": [
    {
     "data": {
      "text/html": [
       "\n",
       "<style>\n",
       ".jupyter-widgets .widget-label { color: #EDEEE3; }  /* Make the description text white */\n",
       ".widget-dropdown > select { background-color: #0F0E0E !important; color: #EDEEE3; }\n",
       "textarea, input { font-family: Arial; }\n",
       ".cell-output-ipywidget-background { background-color: transparent !important; }\n",
       ".jp-OutputArea-output { background-color: transparent; }\n",
       "\n",
       "/* Styles for Markdown tables */\n",
       "table { \n",
       "    color: white; /* Text color */\n",
       "    border-collapse: collapse;\n",
       "}\n",
       "td, th { \n",
       "    /* Table border */\n",
       "    padding: 12px; \n",
       "    text-align: left;\n",
       "}\n",
       "tr:nth-child(even){background-color: #0F0E0E;}\n",
       "tr:hover {background-color: #252423;}\n",
       "th {\n",
       "    padding-top: 12px;\n",
       "    padding-bottom: 12px;\n",
       "    background-color: #0F0E0E; /* Header background color */\n",
       "    color: #6BA9F0; /* Header text color */\n",
       "    border-bottom: 1px solid white;\n",
       "}\n",
       "</style>\n"
      ],
      "text/plain": [
       "<IPython.core.display.HTML object>"
      ]
     },
     "metadata": {},
     "output_type": "display_data"
    },
    {
     "data": {
      "application/vnd.jupyter.widget-view+json": {
       "model_id": "09f64cbe88e34435b7d701917e9636b2",
       "version_major": 2,
       "version_minor": 0
      },
      "text/plain": [
       "Output()"
      ]
     },
     "metadata": {},
     "output_type": "display_data"
    },
    {
     "data": {
      "application/vnd.jupyter.widget-view+json": {
       "model_id": "a3bedacaaddd44c6a5ef75c885aa1840",
       "version_major": 2,
       "version_minor": 0
      },
      "text/plain": [
       "Output()"
      ]
     },
     "metadata": {},
     "output_type": "display_data"
    },
    {
     "data": {
      "application/vnd.jupyter.widget-view+json": {
       "model_id": "1f2d85dd952f4e67beffe78daaeda19d",
       "version_major": 2,
       "version_minor": 0
      },
      "text/plain": [
       "Output()"
      ]
     },
     "metadata": {},
     "output_type": "display_data"
    }
   ],
   "source": [
    "# experiment overview:\n",
    "import pandas as pd\n",
    "import ipywidgets as widgets\n",
    "from ipywidgets import VBox, Layout, HBox, Output\n",
    "from IPython.display import Markdown, display, clear_output, HTML\n",
    "import sys\n",
    "from pathlib import Path\n",
    "\n",
    "# Adjust the system path to include the pythonScripts directory using a relative path\n",
    "python_scripts_path = Path('..') / 'pythonScripts'\n",
    "sys.path.append(str(python_scripts_path.resolve()))\n",
    "\n",
    "from new_experiment import create_experiment\n",
    "\n",
    "# Define project options and styles\n",
    "project_options = ['', 'TPH_NO', 'TPH_Fe(IV)O','BesC']\n",
    "experiment_options = ['', 'AbsCD', 'MCD']\n",
    "flexoki_button_style = {'button_color': '#6BA9F0', 'text_color': '#0F0E0E', 'font_weight': 'bold'}\n",
    "flexoki_text_style = {'description_width': '100px', 'background':'#0F0E0E', 'font-family': 'arial', 'text_color': '#ffffff'}\n",
    "# Apply dark theme styling with specified colors\n",
    "dark_theme_css = \"\"\"\n",
    "<style>\n",
    ".jupyter-widgets .widget-label { color: #EDEEE3; }  /* Make the description text white */\n",
    ".widget-dropdown > select { background-color: #0F0E0E !important; color: #EDEEE3; }\n",
    "textarea, input { font-family: Arial; }\n",
    ".cell-output-ipywidget-background { background-color: transparent !important; }\n",
    ".jp-OutputArea-output { background-color: transparent; }\n",
    "\n",
    "/* Styles for Markdown tables */\n",
    "table { \n",
    "    color: white; /* Text color */\n",
    "    border-collapse: collapse;\n",
    "}\n",
    "td, th { \n",
    "    /* Table border */\n",
    "    padding: 12px; \n",
    "    text-align: left;\n",
    "}\n",
    "tr:nth-child(even){background-color: #0F0E0E;}\n",
    "tr:hover {background-color: #252423;}\n",
    "th {\n",
    "    padding-top: 12px;\n",
    "    padding-bottom: 12px;\n",
    "    background-color: #0F0E0E; /* Header background color */\n",
    "    color: #6BA9F0; /* Header text color */\n",
    "    border-bottom: 1px solid white;\n",
    "}\n",
    "</style>\n",
    "\"\"\"\n",
    "display(HTML(dark_theme_css))  # Apply the CSS\n",
    "\n",
    "# Output widgets for different UI components\n",
    "filter_output = Output()\n",
    "df_output = Output()\n",
    "add_experiment_output = Output()\n",
    "\n",
    "# Initialize the filter_project_widget globally\n",
    "filter_project_widget_unformatted = widgets.Dropdown(\n",
    "    description=\"Filter Project:\",\n",
    "    options=project_options,\n",
    "    style={'description_width': '100px'}\n",
    ")\n",
    "\n",
    "# Create a container with layout settings to align its content to the right\n",
    "filter_project_widget = HBox([filter_project_widget_unformatted], layout=Layout(justify_content='flex-end'))\n",
    "\n",
    "# Display output widgets\n",
    "display(filter_output)\n",
    "display(df_output)\n",
    "display(add_experiment_output)\n",
    "\n",
    "# Function to display the DataFrame as a markdown table\n",
    "def csv_to_markdown_table(file_path):\n",
    "    # Read the CSV file\n",
    "    df = pd.read_csv(file_path)\n",
    "    \n",
    "    # # Parse the 'Date' column to datetime format assuming the format is 'dd-mm-yy'\n",
    "    # df['Date'] = pd.to_datetime(df['Date'], format='%y-%m-%d')\n",
    "    \n",
    "    # Sort the DataFrame by the 'Date' column in descending order\n",
    "    df = df.sort_values(by='Date', ascending=False)\n",
    "    \n",
    "    # Convert the DataFrame to a markdown table string\n",
    "    markdown_str = df.to_markdown(index=False)\n",
    "    \n",
    "    # Display the markdown table\n",
    "    with df_output:\n",
    "        clear_output(wait=True)\n",
    "        display(Markdown(markdown_str))\n",
    "\n",
    "# Function to filter the DataFrame based on project selection\n",
    "def filter_df():\n",
    "    df = pd.read_csv(csv_file_path)  # Re-read the CSV file every time the function is called\n",
    "    with filter_output:\n",
    "        clear_output(wait=True)\n",
    "        display(filter_project_widget)  # Use the global widget\n",
    "\n",
    "    def on_filter_change(change):\n",
    "        filtered_df = df[df['Project'] == change['new']] if change['new'] else df\n",
    "        filtered_df = filtered_df.sort_values(by='Date', ascending=False)\n",
    "        markdown_str = filtered_df.to_markdown(index=False)\n",
    "        with df_output:\n",
    "            clear_output(wait=True)\n",
    "            display(Markdown(markdown_str))\n",
    "\n",
    "    filter_project_widget_unformatted.observe(on_filter_change, names='value')\n",
    "\n",
    "# Interactive UI for adding a new experiment\n",
    "def interactive_add_experiment():\n",
    "    with add_experiment_output:\n",
    "        clear_output(wait=True)  # Clear previous UI components if any\n",
    "\n",
    "        # Widgets for input fields\n",
    "        experiment_id_widget = widgets.Text(description=\"Experiment ID:\", style=flexoki_text_style)\n",
    "        project_widget = widgets.Dropdown(description=\"Project:\", options=project_options)\n",
    "        type_widget = widgets.Dropdown(description=\"Type:\", options=experiment_options)\n",
    "        description_widget = widgets.Textarea(description=\"Description:\", style=flexoki_text_style)\n",
    "        add_button = widgets.Button(description=\"Add Experiment\", style=flexoki_button_style)\n",
    "\n",
    "        # Organize widgets into layout\n",
    "        form = VBox([HBox([experiment_id_widget, project_widget],layout=Layout(display='flex', justify_content='flex-end', padding='0px')),\n",
    "                     HBox([description_widget, type_widget],layout=Layout(display='flex', justify_content='flex-end', padding='0px')),\n",
    "                     HBox([add_button], layout=Layout(display='flex', justify_content='flex-end', padding='0px'))],\n",
    "                    layout=Layout(padding='20px'))\n",
    "\n",
    "        def on_add_button_clicked(b):\n",
    "            # Check if there is a space in the exp_id string:\n",
    "            experiment_id = experiment_id_widget.value.replace(\" \", \"\")\n",
    "            # Create a new experiment entry\n",
    "            create_experiment(experiment_id, type_widget.value, project_widget.value, description_widget.value)\n",
    "            # Reset the filter dropdown to its default value\n",
    "            filter_project_widget_unformatted.value = ''\n",
    "            experiment_id_widget.value = ''\n",
    "            type_widget.value = ''\n",
    "            project_widget.value = ''\n",
    "            description_widget.value = ''\n",
    "            # Refresh the displayed CSV content and filter\n",
    "            csv_to_markdown_table(csv_file_path)\n",
    "            filter_df()  # Refresh the filter\n",
    "\n",
    "        add_button.on_click(on_add_button_clicked)\n",
    "        display(form)\n",
    "\n",
    "# Adjust the path to the CSV file using a relative path\n",
    "csv_file_path = Path('experiments.csv').resolve()\n",
    "\n",
    "# Initial setup: display CSV content, setup filter UI, and add experiment UI\n",
    "csv_to_markdown_table(csv_file_path)\n",
    "filter_df()\n",
    "interactive_add_experiment()\n",
    "\n"
   ]
  },
  {
   "cell_type": "code",
   "execution_count": null,
   "metadata": {},
   "outputs": [],
   "source": []
  }
 ],
 "metadata": {
  "kernelspec": {
   "display_name": ".venv",
   "language": "python",
   "name": "python3"
  },
  "language_info": {
   "codemirror_mode": {
    "name": "ipython",
    "version": 3
   },
   "file_extension": ".py",
   "mimetype": "text/x-python",
   "name": "python",
   "nbconvert_exporter": "python",
   "pygments_lexer": "ipython3",
   "version": "3.9.13"
  }
 },
 "nbformat": 4,
 "nbformat_minor": 2
}
